{
  "nbformat": 4,
  "nbformat_minor": 0,
  "metadata": {
    "colab": {
      "name": "Schema_org_Examples",
      "provenance": [],
      "collapsed_sections": [],
      "authorship_tag": "ABX9TyMtqYSUM5xrWhKDjvgvHt8D",
      "include_colab_link": true
    },
    "kernelspec": {
      "name": "python3",
      "display_name": "Python 3"
    }
  },
  "cells": [
    {
      "cell_type": "markdown",
      "metadata": {
        "id": "view-in-github",
        "colab_type": "text"
      },
      "source": [
        "<a href=\"https://colab.research.google.com/github/schemaorg/schemaorg/blob/main/scripts/Schema_org_Examples.ipynb\" target=\"_parent\"><img src=\"https://colab.research.google.com/assets/colab-badge.svg\" alt=\"Open In Colab\"/></a>"
      ]
    },
    {
      "cell_type": "markdown",
      "metadata": {
        "id": "6AEolzp9u63T"
      },
      "source": [
        "# Initialisaion & Data Source Selection\n",
        "Select data source then run the cell\n",
        "\n",
        "**Pre-V11.0: *Always select 'Github:main'***\n",
        "\n",
        "\n"
      ]
    },
    {
      "cell_type": "code",
      "metadata": {
        "colab": {
          "base_uri": "https://localhost:8080/"
        },
        "id": "uZehis5Xt617",
        "cellView": "form",
        "outputId": "6b067f75-f0c6-4d9e-b3c1-90ec9c49ff4c"
      },
      "source": [
        "import os,sys\n",
        "## Source Selection\n",
        "DataSource = \"Github:main\" #@param [\"Github:main\", \"webschemas.org\", \"schema.org\"] {allow-input: true}\n",
        "\n",
        "gitpullrequired = False\n",
        "if DataSource == \"Github:main\":\n",
        "  gitpullrequired = True\n",
        "  termSource = \"default\"\n",
        "  examplesSource = \"default\"\n",
        "elif DataSource == \"webschemas.org\":\n",
        "  termSource = \"https://webschemas.org/version/latest/schemaorg-current-https.ttl\"\n",
        "  examplesSource = \"https://webschemas.org/version/latest/schemaorg-all-examples.txt\"\n",
        "elif DataSource == \"schema.org\":\n",
        "  termSource = \"https://schema.org/version/latest/schemaorg-current-https.ttl\"\n",
        "  examplesSource = \"https://schema.org/version/latest/schemaorg-all-examples.txt\"\n",
        "\n",
        "os.chdir(\"/content\")\n",
        "if not os.path.isdir(\"lib\"):\n",
        "  !mkdir lib\n",
        "for path in [os.getcwd(),\"lib\",\"/content/lib\"]:\n",
        "  sys.path.insert( 1, path ) #Pickup libs from shipped lib directory\n",
        "\n",
        "  \n",
        "!(cd lib; curl -s -O https://raw.githubusercontent.com/schemaorg/schemaorg/main/SchemaTerms/sdotermsource.py)\n",
        "!(cd lib; curl -s -O https://raw.githubusercontent.com/schemaorg/schemaorg/main/SchemaTerms/sdoterm.py)\n",
        "!(cd lib; curl -s -O https://raw.githubusercontent.com/schemaorg/schemaorg/main/SchemaTerms/localmarkdown.py)\n",
        "!(cd lib; curl -s -O https://raw.githubusercontent.com/schemaorg/schemaorg/main/SchemaExamples/schemaexamples.py)\n",
        "!(cd lib; curl -s -O https://raw.githubusercontent.com/schemaorg/schemaorg/main/requirements.txt)\n",
        "\n",
        "!pip --quiet install -r lib/requirements.txt\n",
        "\n",
        "from schemaexamples import SchemaExamples, Example\n",
        "from sdotermsource import SdoTermSource\n",
        "from sdoterm import *\n",
        "from localmarkdown import Markdown\n",
        "\n",
        "Markdown.setWikilinkCssClass(\"localLink\")\n",
        "Markdown.setWikilinkPrePath(\"https://schema.org/\")\n",
        "Markdown.setWikilinkPostPath(\"\")\n",
        "\n",
        "if gitpullrequired:\n",
        "  if os.path.isdir(\"schemaorg\"):\n",
        "    !rm -r schemaorg\n",
        "  !git clone https://github.com/schemaorg/schemaorg.git\n",
        "  os.chdir(\"schemaorg\") #If sources are 'default' file paths are relative to schemaorg dir.\n",
        "\n",
        "print(\"Loading triples file(s)\")\n",
        "SdoTermSource.loadSourceGraph(termSource,init=True)\n",
        "print (\"loaded %s triples - %s terms\" % (len(SdoTermSource.sourceGraph()),len(SdoTermSource.getAllTerms())) )\n",
        "\n",
        "print(\"Loading examples file(s)\")\n",
        "SchemaExamples.loadExamplesFiles(examplesSource,init=True)\n",
        "print(\"Loaded %d examples \" % (SchemaExamples.count()))\n",
        "\n",
        "os.chdir(\"/content\") #put us back to a consistant place\n",
        "\n",
        "\n",
        "\n"
      ],
      "execution_count": 1,
      "outputs": [
        {
          "output_type": "stream",
          "text": [
            "Cloning into 'schemaorg'...\n",
            "remote: Enumerating objects: 432, done.\u001b[K\n",
            "remote: Counting objects: 100% (432/432), done.\u001b[K\n",
            "remote: Compressing objects: 100% (349/349), done.\u001b[K\n",
            "remote: Total 23777 (delta 253), reused 161 (delta 80), pack-reused 23345\u001b[K\n",
            "Receiving objects: 100% (23777/23777), 96.57 MiB | 16.40 MiB/s, done.\n",
            "Resolving deltas: 100% (16874/16874), done.\n",
            "Checking out files: 100% (1787/1787), done.\n",
            "Loading triples file(s)\n",
            "SdoTermSource.loadSourceGraph() loading from default files found in globs: ['data/*.ttl', 'data/ext/*/*.ttl']\n",
            "loaded 15081 triples - 2636 terms\n",
            "Loading examples file(s)\n",
            "SchemaExamples.loadExamplesFiles() loading from default files found in globs: ['data/*examples.txt', 'data/ext/*/*examples.txt']\n",
            "Loaded 462 examples \n"
          ],
          "name": "stdout"
        }
      ]
    },
    {
      "cell_type": "markdown",
      "metadata": {
        "id": "onwhJ4T-N4my"
      },
      "source": [
        "#Examples Overview"
      ]
    },
    {
      "cell_type": "code",
      "metadata": {
        "colab": {
          "base_uri": "https://localhost:8080/"
        },
        "id": "Fik6M2yhODS6",
        "outputId": "1fbc6a14-3bda-4b78-f285-20fe118ce10f"
      },
      "source": [
        "print(\"Total Examples: %s\" % SchemaExamples.count())\n",
        "print(\"Terms with examples: %s\" % len(SchemaExamples.EXAMPLESMAP))\n",
        "maxex = maxterm = invalidTerms = 0\n",
        "for t, exs in SchemaExamples.EXAMPLESMAP.items():\n",
        "  maxex = max(maxex,len(exs))\n",
        "print(\"Max examples for a term: %s\" % maxex)\n",
        "import re\n",
        "for ex in SchemaExamples.allExamples():\n",
        "  maxterm = max(maxterm,len(ex.terms))\n",
        "  for term in ex.terms:\n",
        "    if re.search('[^0-9a-zA-Z-_]',term):\n",
        "      print(\"    %s: invalid term name: '%s'\" %(ex.keyvalue,term))\n",
        "      invalidTerms += 1\n",
        "    else:\n",
        "      t = SdoTermSource.getTerm(term)\n",
        "      if not t:\n",
        "        print(\"    %s: term not found: %s\" %(ex.keyvalue,term))\n",
        "        invalidTerms += 1\n",
        "\n",
        "print(\"Max terms for an example: %s\" % maxterm)\n",
        "print(\"Examples mapped to invalid term names: %s\" % invalidTerms)\n",
        "\n"
      ],
      "execution_count": 8,
      "outputs": [
        {
          "output_type": "stream",
          "text": [
            "Total Examples: 462\n",
            "Terms with examples: 557\n",
            "Max examples for a term: 19\n",
            "    eg-0020: term not found: ContentRating\n",
            "    eg-0169: term not found: CivicAudience\n",
            "    eg-0329: invalid term name: 'Car makesOffer'\n",
            "    eg-0421: term not found: geoMidPoint\n",
            "    eg-0366: term not found: feature\n",
            "    eg-0367: term not found: feature\n",
            "    eg-0424: term not found: LiveBlog\n",
            "    eg-0339: invalid term name: 'comma-separated-list-here replace  with content.'\n",
            "    eg-0236: term not found: BankTransfer\n",
            "    eg-0229: term not found: PreferredNetwork\n",
            "    eg-0229: invalid term name: 'NonPreferredNetwork. HealthPlanFormulary'\n",
            "Max terms for an example: 13\n",
            "Examples mapped to invalid term names: 11\n"
          ],
          "name": "stdout"
        }
      ]
    }
  ]
}