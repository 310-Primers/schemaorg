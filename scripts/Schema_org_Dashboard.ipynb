{
  "nbformat": 4,
  "nbformat_minor": 0,
  "metadata": {
    "colab": {
      "name": "Schema.org Dashboard",
      "provenance": [],
      "collapsed_sections": [],
      "include_colab_link": true
    },
    "kernelspec": {
      "name": "python3",
      "display_name": "Python 3"
    }
  },
  "cells": [
    {
      "cell_type": "markdown",
      "metadata": {
        "id": "view-in-github",
        "colab_type": "text"
      },
      "source": [
        "<a href=\"https://colab.research.google.com/github/schemaorg/schemaorg/blob/main/scripts/Schema_org_Dashboard.ipynb\" target=\"_parent\"><img src=\"https://colab.research.google.com/assets/colab-badge.svg\" alt=\"Open In Colab\"/></a>"
      ]
    },
    {
      "cell_type": "markdown",
      "metadata": {
        "id": "AJJQ-jF0kYXe"
      },
      "source": [
        "This notebook is part of the Schema.org project codebase at https://github.com/schemaorg/schemaorg and licensed under the same terms. **bold text**\n"
      ]
    },
    {
      "cell_type": "markdown",
      "metadata": {
        "id": "uheAoZB3pPFJ"
      },
      "source": [
        "The purpose of this notebook is to show how to work programmatically with schema.org's definitions. \n",
        "\n",
        "See also https://colab.research.google.com/drive/1GVQaP5t8G-NRLAmEvVSp8k5MnsrfttDP for another approach to this."
      ]
    },
    {
      "cell_type": "code",
      "metadata": {
        "id": "8QVUO_iekUSB"
      },
      "source": [
        ""
      ],
      "execution_count": null,
      "outputs": []
    },
    {
      "cell_type": "markdown",
      "metadata": {
        "id": "551DIPqFkYa2"
      },
      "source": [
        "SPARQL\n",
        "\n",
        "How to query schema.org schemas using SPARQL"
      ]
    },
    {
      "cell_type": "code",
      "metadata": {
        "id": "zXmaJuuolhup",
        "colab": {
          "base_uri": "https://localhost:8080/"
        },
        "outputId": "5851f6fd-720e-46c4-bb0a-c1cb04e911ea"
      },
      "source": [
        "!pip install sparqlwrapper\n",
        "\n",
        "!pip --quiet install sparqlwrapper # run this once per session to bring in a required library\n"
      ],
      "execution_count": 7,
      "outputs": [
        {
          "output_type": "stream",
          "text": [
            "Requirement already satisfied: sparqlwrapper in /usr/local/lib/python3.6/dist-packages (1.8.5)\n",
            "Requirement already satisfied: rdflib>=4.0 in /usr/local/lib/python3.6/dist-packages (from sparqlwrapper) (5.0.0)\n",
            "Requirement already satisfied: six in /usr/local/lib/python3.6/dist-packages (from rdflib>=4.0->sparqlwrapper) (1.15.0)\n",
            "Requirement already satisfied: isodate in /usr/local/lib/python3.6/dist-packages (from rdflib>=4.0->sparqlwrapper) (0.6.0)\n",
            "Requirement already satisfied: pyparsing in /usr/local/lib/python3.6/dist-packages (from rdflib>=4.0->sparqlwrapper) (2.4.7)\n"
          ],
          "name": "stdout"
        }
      ]
    },
    {
      "cell_type": "code",
      "metadata": {
        "id": "NBJQh09tlh1y",
        "colab": {
          "base_uri": "https://localhost:8080/"
        },
        "outputId": "fe9b0e2c-232b-46e8-e486-7ff97600472f"
      },
      "source": [
        "\n",
        "\n",
        "q1 = \"\"\"SELECT distinct ?prop ?type1 ?type2 WHERE  {\n",
        "  ?type1 rdfs:subClassOf* <https://schema.org/Organization> . \n",
        "  ?type2 rdfs:subClassOf* <https://schema.org/Person> . \n",
        "  ?prop <https://schema.org/domainIncludes> ?type1 .\n",
        "  ?prop <https://schema.org/domainIncludes> ?type2 .\n",
        "}\"\"\"\n",
        "\n",
        "from SPARQLWrapper import SPARQLWrapper, JSON\n",
        "import pandas as pd\n",
        "import io\n",
        "import requests\n",
        "pd.set_option('display.max_colwidth', None)\n",
        "\n",
        "# data\n",
        "wd_endpoint = 'https://query.wikidata.org/sparql'\n",
        "sdo_endpoint = \"https://dydra.com/danbri/schema-org-v11/sparql\"\n",
        "\n",
        "# utility function\n",
        "def df_from_query(querystring=q1, endpoint=sdo_endpoint):\n",
        "  sparql = SPARQLWrapper(endpoint)\n",
        "  sparql.setQuery(querystring)\n",
        "  sparql.setReturnFormat(JSON)\n",
        "  results = sparql.query().convert()\n",
        "  return( pd.json_normalize(results['results']['bindings']) )"
      ],
      "execution_count": 11,
      "outputs": [
        {
          "output_type": "stream",
          "text": [
            "/usr/local/lib/python3.6/dist-packages/ipykernel_launcher.py:14: FutureWarning: Passing a negative integer is deprecated in version 1.0 and will not be supported in future version. Instead, use None to not limit the column width.\n",
            "  \n"
          ],
          "name": "stderr"
        }
      ]
    },
    {
      "cell_type": "code",
      "metadata": {
        "id": "UkB7JWc9q5CP"
      },
      "source": [
        "\n",
        "x = df_from_query(q1)\n",
        "x"
      ],
      "execution_count": 12,
      "outputs": []
    },
    {
      "cell_type": "code",
      "metadata": {
        "colab": {
          "base_uri": "https://localhost:8080/",
          "height": 906
        },
        "id": "8SgUI0FArHKY",
        "outputId": "5dd35780-3b35-4c74-c19f-b53656a4e2eb"
      },
      "source": [
        ""
      ],
      "execution_count": 13,
      "outputs": [
        {
          "output_type": "execute_result",
          "data": {
            "text/html": [
              "<div>\n",
              "<style scoped>\n",
              "    .dataframe tbody tr th:only-of-type {\n",
              "        vertical-align: middle;\n",
              "    }\n",
              "\n",
              "    .dataframe tbody tr th {\n",
              "        vertical-align: top;\n",
              "    }\n",
              "\n",
              "    .dataframe thead th {\n",
              "        text-align: right;\n",
              "    }\n",
              "</style>\n",
              "<table border=\"1\" class=\"dataframe\">\n",
              "  <thead>\n",
              "    <tr style=\"text-align: right;\">\n",
              "      <th></th>\n",
              "      <th>prop.type</th>\n",
              "      <th>prop.value</th>\n",
              "      <th>type1.type</th>\n",
              "      <th>type1.value</th>\n",
              "      <th>type2.type</th>\n",
              "      <th>type2.value</th>\n",
              "    </tr>\n",
              "  </thead>\n",
              "  <tbody>\n",
              "    <tr>\n",
              "      <th>0</th>\n",
              "      <td>uri</td>\n",
              "      <td>https://schema.org/email</td>\n",
              "      <td>uri</td>\n",
              "      <td>https://schema.org/Organization</td>\n",
              "      <td>uri</td>\n",
              "      <td>https://schema.org/Person</td>\n",
              "    </tr>\n",
              "    <tr>\n",
              "      <th>1</th>\n",
              "      <td>uri</td>\n",
              "      <td>https://schema.org/faxNumber</td>\n",
              "      <td>uri</td>\n",
              "      <td>https://schema.org/Organization</td>\n",
              "      <td>uri</td>\n",
              "      <td>https://schema.org/Person</td>\n",
              "    </tr>\n",
              "    <tr>\n",
              "      <th>2</th>\n",
              "      <td>uri</td>\n",
              "      <td>https://schema.org/award</td>\n",
              "      <td>uri</td>\n",
              "      <td>https://schema.org/Organization</td>\n",
              "      <td>uri</td>\n",
              "      <td>https://schema.org/Person</td>\n",
              "    </tr>\n",
              "    <tr>\n",
              "      <th>3</th>\n",
              "      <td>uri</td>\n",
              "      <td>https://schema.org/telephone</td>\n",
              "      <td>uri</td>\n",
              "      <td>https://schema.org/Organization</td>\n",
              "      <td>uri</td>\n",
              "      <td>https://schema.org/Person</td>\n",
              "    </tr>\n",
              "    <tr>\n",
              "      <th>4</th>\n",
              "      <td>uri</td>\n",
              "      <td>https://schema.org/memberOf</td>\n",
              "      <td>uri</td>\n",
              "      <td>https://schema.org/Organization</td>\n",
              "      <td>uri</td>\n",
              "      <td>https://schema.org/Person</td>\n",
              "    </tr>\n",
              "    <tr>\n",
              "      <th>5</th>\n",
              "      <td>uri</td>\n",
              "      <td>https://schema.org/sponsor</td>\n",
              "      <td>uri</td>\n",
              "      <td>https://schema.org/Organization</td>\n",
              "      <td>uri</td>\n",
              "      <td>https://schema.org/Person</td>\n",
              "    </tr>\n",
              "    <tr>\n",
              "      <th>6</th>\n",
              "      <td>uri</td>\n",
              "      <td>https://schema.org/knowsAbout</td>\n",
              "      <td>uri</td>\n",
              "      <td>https://schema.org/Organization</td>\n",
              "      <td>uri</td>\n",
              "      <td>https://schema.org/Person</td>\n",
              "    </tr>\n",
              "    <tr>\n",
              "      <th>7</th>\n",
              "      <td>uri</td>\n",
              "      <td>https://schema.org/gender</td>\n",
              "      <td>uri</td>\n",
              "      <td>https://schema.org/SportsTeam</td>\n",
              "      <td>uri</td>\n",
              "      <td>https://schema.org/Person</td>\n",
              "    </tr>\n",
              "    <tr>\n",
              "      <th>8</th>\n",
              "      <td>uri</td>\n",
              "      <td>https://schema.org/vatID</td>\n",
              "      <td>uri</td>\n",
              "      <td>https://schema.org/Organization</td>\n",
              "      <td>uri</td>\n",
              "      <td>https://schema.org/Person</td>\n",
              "    </tr>\n",
              "    <tr>\n",
              "      <th>9</th>\n",
              "      <td>uri</td>\n",
              "      <td>https://schema.org/brand</td>\n",
              "      <td>uri</td>\n",
              "      <td>https://schema.org/Organization</td>\n",
              "      <td>uri</td>\n",
              "      <td>https://schema.org/Person</td>\n",
              "    </tr>\n",
              "    <tr>\n",
              "      <th>10</th>\n",
              "      <td>uri</td>\n",
              "      <td>https://schema.org/seeks</td>\n",
              "      <td>uri</td>\n",
              "      <td>https://schema.org/Organization</td>\n",
              "      <td>uri</td>\n",
              "      <td>https://schema.org/Person</td>\n",
              "    </tr>\n",
              "    <tr>\n",
              "      <th>11</th>\n",
              "      <td>uri</td>\n",
              "      <td>https://schema.org/funder</td>\n",
              "      <td>uri</td>\n",
              "      <td>https://schema.org/Organization</td>\n",
              "      <td>uri</td>\n",
              "      <td>https://schema.org/Person</td>\n",
              "    </tr>\n",
              "    <tr>\n",
              "      <th>12</th>\n",
              "      <td>uri</td>\n",
              "      <td>https://schema.org/hasPOS</td>\n",
              "      <td>uri</td>\n",
              "      <td>https://schema.org/Organization</td>\n",
              "      <td>uri</td>\n",
              "      <td>https://schema.org/Person</td>\n",
              "    </tr>\n",
              "    <tr>\n",
              "      <th>13</th>\n",
              "      <td>uri</td>\n",
              "      <td>https://schema.org/publishingPrinciples</td>\n",
              "      <td>uri</td>\n",
              "      <td>https://schema.org/Organization</td>\n",
              "      <td>uri</td>\n",
              "      <td>https://schema.org/Person</td>\n",
              "    </tr>\n",
              "    <tr>\n",
              "      <th>14</th>\n",
              "      <td>uri</td>\n",
              "      <td>https://schema.org/duns</td>\n",
              "      <td>uri</td>\n",
              "      <td>https://schema.org/Organization</td>\n",
              "      <td>uri</td>\n",
              "      <td>https://schema.org/Person</td>\n",
              "    </tr>\n",
              "    <tr>\n",
              "      <th>15</th>\n",
              "      <td>uri</td>\n",
              "      <td>https://schema.org/knowsLanguage</td>\n",
              "      <td>uri</td>\n",
              "      <td>https://schema.org/Organization</td>\n",
              "      <td>uri</td>\n",
              "      <td>https://schema.org/Person</td>\n",
              "    </tr>\n",
              "    <tr>\n",
              "      <th>16</th>\n",
              "      <td>uri</td>\n",
              "      <td>https://schema.org/globalLocationNumber</td>\n",
              "      <td>uri</td>\n",
              "      <td>https://schema.org/Organization</td>\n",
              "      <td>uri</td>\n",
              "      <td>https://schema.org/Person</td>\n",
              "    </tr>\n",
              "    <tr>\n",
              "      <th>17</th>\n",
              "      <td>uri</td>\n",
              "      <td>https://schema.org/hasOfferCatalog</td>\n",
              "      <td>uri</td>\n",
              "      <td>https://schema.org/Organization</td>\n",
              "      <td>uri</td>\n",
              "      <td>https://schema.org/Person</td>\n",
              "    </tr>\n",
              "    <tr>\n",
              "      <th>18</th>\n",
              "      <td>uri</td>\n",
              "      <td>https://schema.org/interactionStatistic</td>\n",
              "      <td>uri</td>\n",
              "      <td>https://schema.org/Organization</td>\n",
              "      <td>uri</td>\n",
              "      <td>https://schema.org/Person</td>\n",
              "    </tr>\n",
              "    <tr>\n",
              "      <th>19</th>\n",
              "      <td>uri</td>\n",
              "      <td>https://schema.org/contactPoint</td>\n",
              "      <td>uri</td>\n",
              "      <td>https://schema.org/Organization</td>\n",
              "      <td>uri</td>\n",
              "      <td>https://schema.org/Person</td>\n",
              "    </tr>\n",
              "    <tr>\n",
              "      <th>20</th>\n",
              "      <td>uri</td>\n",
              "      <td>https://schema.org/owns</td>\n",
              "      <td>uri</td>\n",
              "      <td>https://schema.org/Organization</td>\n",
              "      <td>uri</td>\n",
              "      <td>https://schema.org/Person</td>\n",
              "    </tr>\n",
              "    <tr>\n",
              "      <th>21</th>\n",
              "      <td>uri</td>\n",
              "      <td>https://schema.org/contactPoints</td>\n",
              "      <td>uri</td>\n",
              "      <td>https://schema.org/Organization</td>\n",
              "      <td>uri</td>\n",
              "      <td>https://schema.org/Person</td>\n",
              "    </tr>\n",
              "    <tr>\n",
              "      <th>22</th>\n",
              "      <td>uri</td>\n",
              "      <td>https://schema.org/taxID</td>\n",
              "      <td>uri</td>\n",
              "      <td>https://schema.org/Organization</td>\n",
              "      <td>uri</td>\n",
              "      <td>https://schema.org/Person</td>\n",
              "    </tr>\n",
              "    <tr>\n",
              "      <th>23</th>\n",
              "      <td>uri</td>\n",
              "      <td>https://schema.org/awards</td>\n",
              "      <td>uri</td>\n",
              "      <td>https://schema.org/Organization</td>\n",
              "      <td>uri</td>\n",
              "      <td>https://schema.org/Person</td>\n",
              "    </tr>\n",
              "    <tr>\n",
              "      <th>24</th>\n",
              "      <td>uri</td>\n",
              "      <td>https://schema.org/address</td>\n",
              "      <td>uri</td>\n",
              "      <td>https://schema.org/Organization</td>\n",
              "      <td>uri</td>\n",
              "      <td>https://schema.org/Person</td>\n",
              "    </tr>\n",
              "    <tr>\n",
              "      <th>25</th>\n",
              "      <td>uri</td>\n",
              "      <td>https://schema.org/hasCredential</td>\n",
              "      <td>uri</td>\n",
              "      <td>https://schema.org/Organization</td>\n",
              "      <td>uri</td>\n",
              "      <td>https://schema.org/Person</td>\n",
              "    </tr>\n",
              "    <tr>\n",
              "      <th>26</th>\n",
              "      <td>uri</td>\n",
              "      <td>https://schema.org/makesOffer</td>\n",
              "      <td>uri</td>\n",
              "      <td>https://schema.org/Organization</td>\n",
              "      <td>uri</td>\n",
              "      <td>https://schema.org/Person</td>\n",
              "    </tr>\n",
              "    <tr>\n",
              "      <th>27</th>\n",
              "      <td>uri</td>\n",
              "      <td>https://schema.org/isicV4</td>\n",
              "      <td>uri</td>\n",
              "      <td>https://schema.org/Organization</td>\n",
              "      <td>uri</td>\n",
              "      <td>https://schema.org/Person</td>\n",
              "    </tr>\n",
              "    <tr>\n",
              "      <th>28</th>\n",
              "      <td>uri</td>\n",
              "      <td>https://schema.org/naics</td>\n",
              "      <td>uri</td>\n",
              "      <td>https://schema.org/Organization</td>\n",
              "      <td>uri</td>\n",
              "      <td>https://schema.org/Person</td>\n",
              "    </tr>\n",
              "  </tbody>\n",
              "</table>\n",
              "</div>"
            ],
            "text/plain": [
              "   prop.type  ...                type2.value\n",
              "0   uri       ...  https://schema.org/Person\n",
              "1   uri       ...  https://schema.org/Person\n",
              "2   uri       ...  https://schema.org/Person\n",
              "3   uri       ...  https://schema.org/Person\n",
              "4   uri       ...  https://schema.org/Person\n",
              "5   uri       ...  https://schema.org/Person\n",
              "6   uri       ...  https://schema.org/Person\n",
              "7   uri       ...  https://schema.org/Person\n",
              "8   uri       ...  https://schema.org/Person\n",
              "9   uri       ...  https://schema.org/Person\n",
              "10  uri       ...  https://schema.org/Person\n",
              "11  uri       ...  https://schema.org/Person\n",
              "12  uri       ...  https://schema.org/Person\n",
              "13  uri       ...  https://schema.org/Person\n",
              "14  uri       ...  https://schema.org/Person\n",
              "15  uri       ...  https://schema.org/Person\n",
              "16  uri       ...  https://schema.org/Person\n",
              "17  uri       ...  https://schema.org/Person\n",
              "18  uri       ...  https://schema.org/Person\n",
              "19  uri       ...  https://schema.org/Person\n",
              "20  uri       ...  https://schema.org/Person\n",
              "21  uri       ...  https://schema.org/Person\n",
              "22  uri       ...  https://schema.org/Person\n",
              "23  uri       ...  https://schema.org/Person\n",
              "24  uri       ...  https://schema.org/Person\n",
              "25  uri       ...  https://schema.org/Person\n",
              "26  uri       ...  https://schema.org/Person\n",
              "27  uri       ...  https://schema.org/Person\n",
              "28  uri       ...  https://schema.org/Person\n",
              "\n",
              "[29 rows x 6 columns]"
            ]
          },
          "metadata": {
            "tags": []
          },
          "execution_count": 13
        }
      ]
    },
    {
      "cell_type": "code",
      "metadata": {
        "id": "bfgvQEeWrHSP"
      },
      "source": [
        ""
      ],
      "execution_count": null,
      "outputs": []
    },
    {
      "cell_type": "markdown",
      "metadata": {
        "id": "mwzES2SzlVq5"
      },
      "source": [
        "# Examples\n",
        "\n",
        "How to access schema.org examples"
      ]
    },
    {
      "cell_type": "code",
      "metadata": {
        "id": "C7KAqqyWrGao"
      },
      "source": [
        ""
      ],
      "execution_count": null,
      "outputs": []
    },
    {
      "cell_type": "markdown",
      "metadata": {
        "id": "S3PZjEzRkYfW"
      },
      "source": [
        ""
      ]
    }
  ]
}