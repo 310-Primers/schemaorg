{
  "nbformat": 4,
  "nbformat_minor": 0,
  "metadata": {
    "colab": {
      "name": "Schema.org Dashboard",
      "provenance": [],
      "collapsed_sections": [],
      "include_colab_link": true
    },
    "kernelspec": {
      "name": "python3",
      "display_name": "Python 3"
    }
  },
  "cells": [
    {
      "cell_type": "markdown",
      "metadata": {
        "id": "view-in-github",
        "colab_type": "text"
      },
      "source": [
        "<a href=\"https://colab.research.google.com/github/schemaorg/schemaorg/blob/main/scripts/Schema_org_Dashboard.ipynb\" target=\"_parent\"><img src=\"https://colab.research.google.com/assets/colab-badge.svg\" alt=\"Open In Colab\"/></a>"
      ]
    },
    {
      "cell_type": "markdown",
      "metadata": {
        "id": "AJJQ-jF0kYXe"
      },
      "source": [
        "This notebook is part of the Schema.org project codebase at https://github.com/schemaorg/schemaorg and licensed under the same terms. **bold text**\n"
      ]
    },
    {
      "cell_type": "markdown",
      "metadata": {
        "id": "uheAoZB3pPFJ"
      },
      "source": [
        "The purpose of this notebook is to show how to work programmatically with schema.org's definitions. \n",
        "\n",
        "See also https://colab.research.google.com/drive/1GVQaP5t8G-NRLAmEvVSp8k5MnsrfttDP for another approach to this."
      ]
    },
    {
      "cell_type": "code",
      "metadata": {
        "id": "8QVUO_iekUSB"
      },
      "source": [
        ""
      ],
      "execution_count": null,
      "outputs": []
    },
    {
      "cell_type": "markdown",
      "metadata": {
        "id": "551DIPqFkYa2"
      },
      "source": [
        "SPARQL\n",
        "\n",
        "How to query schema.org schemas using SPARQL"
      ]
    },
    {
      "cell_type": "code",
      "metadata": {
        "id": "zXmaJuuolhup"
      },
      "source": [
        "q1 = \"\"\"SELECT distinct ?prop ?type1 ?type2 WHERE  {\n",
        "  ?type1 rdfs:subClassOf* <https://schema.org/Organization> . \n",
        "  ?type2 rdfs:subClassOf* <https://schema.org/Person> . \n",
        "  ?prop <https://schema.org/domainIncludes> ?type1 .\n",
        "  ?prop <https://schema.org/domainIncludes> ?type2 .\n",
        "}\"\"\"\n",
        "\n",
        "endpoint = \"https://dydra.com/danbri/schema-org-v11/sparql\""
      ],
      "execution_count": null,
      "outputs": []
    },
    {
      "cell_type": "code",
      "metadata": {
        "id": "NBJQh09tlh1y"
      },
      "source": [
        "!pip install sparqlwrapper\n",
        "\n",
        "!pip --quiet install sparqlwrapper # run this once per session to bring in a required library\n",
        "from SPARQLWrapper import SPARQLWrapper, JSON\n",
        "import pandas as pd\n",
        "import io\n",
        "import requests\n",
        "pd.set_option('display.max_colwidth', -1)\n",
        "\n",
        "# data\n",
        "wd_endpoint = endpoint # 'https://query.wikidata.org/sparql'\n",
        "\n",
        "# utility function\n",
        "def df_from_query(querystring=qs, endpoint=wd_endpoint):\n",
        "  sparql = SPARQLWrapper(endpoint)\n",
        "  sparql.setQuery(querystring)\n",
        "  sparql.setReturnFormat(JSON)\n",
        "  results = sparql.query().convert()\n",
        "  return( pd.io.json.json_normalize(results['results']['bindings']) )"
      ],
      "execution_count": null,
      "outputs": []
    },
    {
      "cell_type": "markdown",
      "metadata": {
        "id": "mwzES2SzlVq5"
      },
      "source": [
        "# Examples\n",
        "\n",
        "How to access schema.org examples"
      ]
    },
    {
      "cell_type": "markdown",
      "metadata": {
        "id": "S3PZjEzRkYfW"
      },
      "source": [
        ""
      ]
    }
  ]
}